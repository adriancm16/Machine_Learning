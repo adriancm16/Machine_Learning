{
  "cells": [
    {
      "cell_type": "markdown",
      "metadata": {
        "id": "view-in-github",
        "colab_type": "text"
      },
      "source": [
        "<a href=\"https://colab.research.google.com/github/adriancm16/Machine_Learning/blob/main/perceptron/Perceptron.ipynb\" target=\"_parent\"><img src=\"https://colab.research.google.com/assets/colab-badge.svg\" alt=\"Open In Colab\"/></a>"
      ]
    },
    {
      "cell_type": "markdown",
      "metadata": {
        "id": "6BTWrldbtZgw"
      },
      "source": [
        "# **El Perceptrón**\n",
        "Entrenamiento de un perceptron con funciones de activacion sigmoide y tangente hiperbolica\n"
      ]
    },
    {
      "cell_type": "markdown",
      "metadata": {
        "id": "4H0pglG2teFa"
      },
      "source": [
        "https://spin.atomicobject.com/2014/06/24/gradient-descent-linear-regression/\n",
        "\n"
      ]
    },
    {
      "cell_type": "code",
      "execution_count": null,
      "metadata": {
        "id": "2qZxAwNYtzqN"
      },
      "outputs": [],
      "source": [
        "#Librerías\n",
        "from numpy import exp, array, random, dot\n",
        "import seaborn as sns\n",
        "import matplotlib.pyplot as plt"
      ]
    },
    {
      "cell_type": "markdown",
      "metadata": {
        "id": "Ekws2kzIwhUf"
      },
      "source": [
        "###Definición del Perceptrón"
      ]
    },
    {
      "cell_type": "code",
      "execution_count": null,
      "metadata": {
        "id": "i9vMFnGmt8ao"
      },
      "outputs": [],
      "source": [
        "\n",
        "#Perceptrón\n",
        "class NeuralNetwork():\n",
        "    def __init__(self):\n",
        "        # Inicializar la semilla del generador aleatorio para que siempre de los mismos numeros\n",
        "        # cada vez que el programa corra\n",
        "        random.seed(1)\n",
        "\n",
        "        # Modelo de una sola neurona, con una conexion de salida y tres de entrada.\n",
        "        # asignamos pesos aleatorios a una matriz 3 x 1, con los valores en el rango -1 a 1\n",
        "        # y media 0.\n",
        "        self.synaptic_weights = 2 * random.random((3, 1)) - 1#pesos para sigmoide\n",
        "\n",
        "    # La función sigmoidea, que describe una función en forma de s, es la función de activación.\n",
        "    # Nosotros hacemos pasar la suma de los pesos a través de dicha función para normalizarla entre 0 y 1--\n",
        "    #(porque eso es lo que esperamos) y así poder dar un resultado\n",
        "    def __sigmoid(self, x):\n",
        "        return 1 / (1 + exp(-x))\n",
        "\n",
        "    # La derivada de la función sigmoidea\n",
        "    # es el gradiente descendiente de la función sigmoidea\n",
        "    # Indica qué tanto \"le creemos\" a los pesos resultantes, revisar link.\n",
        "    def __sigmoid_derivative(self, x):\n",
        "        return x * (1 - x)\n",
        "\n",
        "    # Entrenamos a la red neuronal a través de un proceso de prueba y error\n",
        "    # Ajustamos los pesos sinápticos en cada iteración\n",
        "    def train(self, training_set_inputs, training_set_outputs, number_of_training_iterations):\n",
        "        global historial_error#almacena el historial de los errores para graficarlos\n",
        "\n",
        "        historial_error=[]#limpia el historial para proxima visualizacion\n",
        "\n",
        "        for iteration in range(number_of_training_iterations):\n",
        "            # Pasamos el conjunto de entrenamiento a través de la red neuronal (una única neurona).\n",
        "            output = self.think(training_set_inputs)\n",
        "\n",
        "            # Calculamos el error (La diferencia entre el valor que esperamos obtener realmente\n",
        "            # y la salida predicha).\n",
        "            error = training_set_outputs - output\n",
        "\n",
        "            historial_error.append(sum(error))#agrega nuevo error al historial\n",
        "\n",
        "            # Multiplique el error por la entrada y de nuevo por el gradiente descendiente de la función sigmoidea.\n",
        "            # Esto significa que los pesos menos confiables se ajustan más (filtrado)\n",
        "            # Esto significa que las entradas, que son cero, no causan cambio a los pesos.\n",
        "            adjustment = dot(training_set_inputs.T, error * self.__sigmoid_derivative(output))\n",
        "\n",
        "            # Ajustar los pesos.\n",
        "            self.synaptic_weights += adjustment*alpha\n",
        "\n",
        "    #Proceso de aprendizaje de la red neuronal:\n",
        "    def think(self, inputs):\n",
        "        # Pasamos las entradas a través de la red neuronal (una única neurona).\n",
        "        return self.__sigmoid(dot(inputs, self.synaptic_weights))\n",
        "\n",
        "    #Funcion de normalizacion\n",
        "    def normalize(self,inference):#rango del sigmoide es de 0 a 1 por tanto : <0.5-->0, >=0.5-->1\n",
        "      if inference >= 0.5:\n",
        "        return 1\n",
        "      else:\n",
        "        return 0"
      ]
    },
    {
      "cell_type": "markdown",
      "metadata": {
        "id": "SeESy5syweNb"
      },
      "source": [
        "###Clase Principal"
      ]
    },
    {
      "cell_type": "code",
      "execution_count": null,
      "metadata": {
        "colab": {
          "base_uri": "https://localhost:8080/"
        },
        "id": "O0FY1SeMuCdO",
        "outputId": "48bea15e-8a5e-4041-c5a4-eb662b41ee2e"
      },
      "outputs": [
        {
          "name": "stdout",
          "output_type": "stream",
          "text": [
            "Pesos sinapticos iniciales generados aleatoriamente: \n",
            "[[-0.16595599]\n",
            " [ 0.44064899]\n",
            " [-0.99977125]]\n",
            "\n",
            "Nuevos pesos sinapticos después del entremaniento: \n",
            "[[ 4.6084726 ]\n",
            " [-0.20128523]\n",
            " [-2.08800584]]\n",
            "\n",
            "Ultimo error: [-0.03834186]\n",
            "\n",
            "Considerando las entradas: \n",
            "[1 0 0]\n",
            "\n",
            "---------------------------------------------\n",
            "Resultado del test--->  [0.99013133]\n",
            "Resultado Normalizada--->  1\n"
          ]
        }
      ],
      "source": [
        "#Clase principal\n",
        "if __name__ == \"__main__\":\n",
        "\n",
        "    #Inicialice una red neuronal de una sola neurona. Quizas no sea propiamente una red...\n",
        "    neural_network = NeuralNetwork()\n",
        "\n",
        "    print (\"Pesos sinapticos iniciales generados aleatoriamente: \")\n",
        "    print (neural_network.synaptic_weights)\n",
        "\n",
        "    # El conjunto de entrenamiento. Tenemos 4 ejemplos, cada uno consistente de tres valores de entrada\n",
        "    #con su respectiva salida (una salida)\n",
        "    training_set_inputs = array([[0, 0, 1], [1, 1, 1], [1, 0, 1], [0, 1, 1]])\n",
        "    training_set_outputs = array([[0, 1, 1, 0]]).T\n",
        "\n",
        "    #TASA DE APRENDIZAJE Y EPOCAS\n",
        "    alpha = 0.2 #Tasa de Aprendizaje\n",
        "    number_of_training_iterations = 500 #Numero de épocas: numero de iteraciones .\n",
        "\n",
        "    #----------------ENTRENAMIENTO-----\n",
        "    # Entrene a la red neuronal usando un conjunto de entrenamiento.\n",
        "    # lo iteramos epocs veces, haciendo pequeños ajustes de pesos en cada iteración\n",
        "    neural_network.train(training_set_inputs, training_set_outputs, number_of_training_iterations)\n",
        "    print (\"\\nNuevos pesos sinapticos después del entremaniento: \")\n",
        "    print (neural_network.synaptic_weights)\n",
        "\n",
        "    print(\"\\nUltimo error: \"+str(historial_error[-1]))#visualiza ultimo error al trancurrir todas las épocas\n",
        "\n",
        "    # Pruebe la red neuronal con una situacion desconocida.\n",
        "    test = array([1, 0, 0])\n",
        "    print (\"\\nConsiderando las entradas: \")\n",
        "    print (test)\n",
        "\n",
        "    print(\"\\n---------------------------------------------\")\n",
        "    output_test=neural_network.think(test)\n",
        "    print(\"Resultado del test---> \",output_test)\n",
        "    print(\"Resultado Normalizada---> \",neural_network.normalize(output_test))\n"
      ]
    },
    {
      "cell_type": "markdown",
      "metadata": {
        "id": "jjLK8BNCk__N"
      },
      "source": [
        "GRAFICA DEL ERROR"
      ]
    },
    {
      "cell_type": "code",
      "execution_count": null,
      "metadata": {
        "id": "77ANfStnk__N",
        "outputId": "72e4c6c4-00f3-4b8d-eb32-5b0c9d4bb86f"
      },
      "outputs": [
        {
          "data": {
            "image/png": "[encoded data removed]",
            "text/plain": [
              "<Figure size 640x480 with 1 Axes>"
            ]
          },
          "metadata": {},
          "output_type": "display_data"
        }
      ],
      "source": [
        "#configuracion de los ejes\n",
        "plt.title(\"comportamiento del error con sigmoide como funcion de activacion\")\n",
        "plt.ylabel(\"error\")\n",
        "plt.xlabel(\"#epocas\")\n",
        "\n",
        "#datos de errores\n",
        "plt.plot(historial_error)\n",
        "plt.grid()\n",
        "plt.show()\n"
      ]
    },
    {
      "cell_type": "markdown",
      "metadata": {
        "tags": [],
        "id": "Ijimv1uyk__O"
      },
      "source": [
        "## PERCEPTRON POR TANH"
      ]
    },
    {
      "cell_type": "code",
      "execution_count": null,
      "metadata": {
        "id": "49-ZPW-sk__O"
      },
      "outputs": [],
      "source": [
        "#Perceptrón\n",
        "class NeuralNetwork_tanh():\n",
        "    def __init__(self):\n",
        "\n",
        "        random.seed(1)\n",
        "        self.synaptic_weights = 2 * random.random((3, 1)) - 1#pesos para tanh\n",
        "\n",
        "    #funcion tanh\n",
        "    def __tanh(self, x):\n",
        "        return (2/(1 + exp(-2*x)))-1\n",
        "\n",
        "    # derivada tanh\n",
        "    def __tanh_derivative(self, x):\n",
        "        return 1-((2/(1 + exp(-2*x)))-1)**2\n",
        "\n",
        "    # Entrenamos a la red neuronal a través de un proceso de prueba y error\n",
        "    # Ajustamos los pesos sinápticos en cada iteración\n",
        "    def train(self, training_set_inputs, training_set_outputs, number_of_training_iterations):\n",
        "        global historial_error#historial de error para visualizar en gráfica\n",
        "\n",
        "        historial_error=[]#limpia el historial para proxima visualizacion\n",
        "\n",
        "        for iteration in range(number_of_training_iterations):\n",
        "            # Pasamos el conjunto de entrenamiento a través de la red neuronal (una única neurona).\n",
        "            output = self.thinkt(training_set_inputs)\n",
        "\n",
        "            # Calculamos el error (La diferencia entre el valor que esperamos obtener realmente\n",
        "            # y la salida predicha).\n",
        "            error = training_set_outputs - output\n",
        "\n",
        "            historial_error.append(sum(error))\n",
        "\n",
        "            # Multiplique el error por la entrada y de nuevo por el gradiente descendiente de la función tanh.\n",
        "            # Esto significa que los pesos menos confiables se ajustan más (filtrado)\n",
        "            # Esto significa que las entradas, que son cero, no causan cambio a los pesos.\n",
        "            adjustment = dot(training_set_inputs.T, error * self.__tanh_derivative(output))\n",
        "\n",
        "            # Ajustar los pesos.\n",
        "            self.synaptic_weights += adjustment*alpha\n",
        "\n",
        "    #Proceso de aprendizaje de la red neuronal:\n",
        "    def thinkt(self, inputs):\n",
        "        # Pasamos las entradas a través de la red neuronal (una única neurona).\n",
        "        return self.__tanh(dot(inputs, self.synaptic_weights))\n",
        "\n",
        "    #Funcion de normalizacion\n",
        "    def normalize(self,inference):#rango del tanh es -1,1 por tanto: <0 -->0, >=0 -->1\n",
        "      if inference >= 0:\n",
        "        return 1\n",
        "      else:\n",
        "        return 0"
      ]
    },
    {
      "cell_type": "markdown",
      "metadata": {
        "id": "O_nb1nxNk__O"
      },
      "source": [
        "Principal"
      ]
    },
    {
      "cell_type": "code",
      "execution_count": null,
      "metadata": {
        "id": "_5shjMWgk__O",
        "outputId": "e93699c1-a9c4-4a45-e8b8-68e53a570a18"
      },
      "outputs": [
        {
          "name": "stdout",
          "output_type": "stream",
          "text": [
            "Pesos sinapticos iniciales generados aleatoriamente: \n",
            "[[-0.16595599]\n",
            " [ 0.44064899]\n",
            " [-0.99977125]]\n",
            "\n",
            "Nuevos pesos sinapticos después del entremaniento: \n",
            "[[ 2.66222333e+00]\n",
            " [-7.40757410e-05]\n",
            " [ 4.16958443e-03]]\n",
            "\n",
            "Ultimo error: [0.01100088]\n",
            "\n",
            "Considerando las entradas: \n",
            "[1 0 0]\n",
            "\n",
            "---------------------------------------------\n",
            "Resultado del test--->  [0.99030513]\n",
            "Resultado Normalizada--->  1\n"
          ]
        },
        {
          "data": {
            "image/png": "[encoded data removed]",
            "text/plain": [
              "<Figure size 640x480 with 1 Axes>"
            ]
          },
          "metadata": {},
          "output_type": "display_data"
        }
      ],
      "source": [
        "if __name__ == \"__main__\":\n",
        "\n",
        "    neural_network_tanh = NeuralNetwork_tanh()\n",
        "\n",
        "    print (\"Pesos sinapticos iniciales generados aleatoriamente: \")\n",
        "    print (neural_network_tanh.synaptic_weights)\n",
        "\n",
        "    # El conjunto de entrenamiento. Tenemos 4 ejemplos, cada uno consistente de tres valores de entrada\n",
        "    #con su respectiva salida (una salida)\n",
        "    training_set_inputs = array([[0, 0, 1], [1, 1, 1], [1, 0, 1], [0, 1, 1]])\n",
        "    training_set_outputs = array([[0, 1, 1, 0]]).T\n",
        "\n",
        "    #TASA DE APRENDIZAJE Y EPOCAS\n",
        "    alpha = 0.2 #Tasa de Aprendizaje\n",
        "    number_of_training_iterations = 300#Numero de épocas: numero de iteraciones .\n",
        "\n",
        "    #----------------ENTRENAMIENTO-----\n",
        "    # Entrene a la red neuronal usando un conjunto de entrenamiento.\n",
        "    # lo iteramos epocs veces, haciendo pequeños ajustes de pesos en cada iteración\n",
        "    neural_network_tanh.train(training_set_inputs, training_set_outputs, number_of_training_iterations)\n",
        "    print (\"\\nNuevos pesos sinapticos después del entremaniento: \")\n",
        "    print (neural_network_tanh.synaptic_weights)\n",
        "\n",
        "    print(\"\\nUltimo error: \"+str(historial_error[-1]))#visualiza ultimo error\n",
        "\n",
        "    # Pruebe la red neuronal con una situacion desconocida.\n",
        "    test = array([1, 0, 0])\n",
        "    print (\"\\nConsiderando las entradas: \")\n",
        "    print (test)\n",
        "\n",
        "    print(\"\\n---------------------------------------------\")\n",
        "    output_test=neural_network_tanh.thinkt(test)\n",
        "    print(\"Resultado del test---> \",output_test)\n",
        "    print(\"Resultado Normalizada---> \",neural_network_tanh.normalize(output_test))\n",
        "\n",
        "##GRAFICA\n",
        "#configuracion de los ejes\n",
        "plt.title(\"comportamiento del error con tanh como funcion de activacion\")\n",
        "plt.ylabel(\"error\")\n",
        "plt.xlabel(\"#epocas\")\n",
        "\n",
        "#datos de errores\n",
        "plt.plot(historial_error)\n",
        "plt.grid()\n",
        "plt.show()\n"
      ]
    }
  ],
  "metadata": {
    "colab": {
      "provenance": [],
      "include_colab_link": true
    },
    "kernelspec": {
      "display_name": "Python 3 (ipykernel)",
      "language": "python",
      "name": "python3"
    },
    "language_info": {
      "codemirror_mode": {
        "name": "ipython",
        "version": 3
      },
      "file_extension": ".py",
      "mimetype": "text/x-python",
      "name": "python",
      "nbconvert_exporter": "python",
      "pygments_lexer": "ipython3",
      "version": "3.9.13"
    }
  },
  "nbformat": 4,
  "nbformat_minor": 0
}